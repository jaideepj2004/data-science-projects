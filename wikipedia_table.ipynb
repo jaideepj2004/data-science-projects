{
 "cells": [
  {
   "cell_type": "code",
   "execution_count": 1,
   "metadata": {},
   "outputs": [],
   "source": [
    "import pandas as pd\n",
    "\n",
    "# Define the Wikipedia URL\n",
    "url = \"https://en.wikipedia.org/wiki/Web_colors\"\n",
    "\n",
    "# Use pandas to read tables from the URL\n",
    "tables = pd.read_html(url)\n",
    "\n",
    "# Loop through the tables, starting from the second table (index 1), and save each one as a separate CSV file\n",
    "for i, table in enumerate(tables[1:], 1):\n",
    "    table.to_csv(f\"table_{i}.csv\", index=False)\n",
    "\n",
    "# This will save each table, starting from the second table, as a separate CSV file with filenames like \"table_1.csv\", \"table_2.csv\", and so on.\n"
   ]
  },
  {
   "cell_type": "code",
   "execution_count": null,
   "metadata": {},
   "outputs": [],
   "source": []
  }
 ],
 "metadata": {
  "kernelspec": {
   "display_name": "Python 3",
   "language": "python",
   "name": "python3"
  },
  "language_info": {
   "codemirror_mode": {
    "name": "ipython",
    "version": 3
   },
   "file_extension": ".py",
   "mimetype": "text/x-python",
   "name": "python",
   "nbconvert_exporter": "python",
   "pygments_lexer": "ipython3",
   "version": "3.11.6"
  }
 },
 "nbformat": 4,
 "nbformat_minor": 2
}
